{
 "cells": [
  {
   "cell_type": "code",
   "execution_count": 2,
   "id": "af5e479a-93cd-407d-8bb6-59a973a82c43",
   "metadata": {
    "tags": []
   },
   "outputs": [
    {
     "name": "stdout",
     "output_type": "stream",
     "text": [
      "len(C_O_existed_poscar_abs_path_list_loaded): 205732\n"
     ]
    }
   ],
   "source": [
    "# load\n",
    "import numpy as np\n",
    "C_O_existed_poscar_abs_path_list_loaded = np.load(\"C_O_existed_poscar_abs_path_list.npy\", allow_pickle=True)\n",
    "print(f\"len(C_O_existed_poscar_abs_path_list_loaded): {len(C_O_existed_poscar_abs_path_list_loaded)}\")"
   ]
  },
  {
   "cell_type": "code",
   "execution_count": 8,
   "id": "bd7668e3-d5fc-43f0-94c1-6708742cec2b",
   "metadata": {
    "tags": []
   },
   "outputs": [],
   "source": [
    "import os\n",
    "from pathlib import Path\n",
    "C_O_existed_poscar_folder_abs_path_list = [Path(os.path.split(POSCAR_path)[0] )for POSCAR_path in C_O_existed_poscar_abs_path_list_loaded]"
   ]
  },
  {
   "cell_type": "code",
   "execution_count": 25,
   "id": "f0e1f7bb-3206-40c1-8697-9315d787dc82",
   "metadata": {
    "tags": []
   },
   "outputs": [],
   "source": [
    "np.save(\"C_O_existed_poscar_folder_abs_path_list.npy\", C_O_existed_poscar_folder_abs_path_list)"
   ]
  },
  {
   "cell_type": "code",
   "execution_count": 30,
   "id": "188f71c1-c134-4061-aa76-125b6d6f3667",
   "metadata": {
    "tags": []
   },
   "outputs": [],
   "source": [
    "# confirm load test\n",
    "C_O_existed_poscar_folder_abs_path_list_loaded = np.load(\"C_O_existed_poscar_folder_abs_path_list.npy\", allow_pickle=True)"
   ]
  },
  {
   "cell_type": "code",
   "execution_count": 31,
   "id": "22ada227-da62-4c53-901f-8df4fe0fe490",
   "metadata": {
    "tags": []
   },
   "outputs": [
    {
     "data": {
      "text/plain": [
       "array([PosixPath('/mnt/ssd_elecom_black_c2c/cif/1/00/00/1000000'),\n",
       "       PosixPath('/mnt/ssd_elecom_black_c2c/cif/1/00/00/1000001'),\n",
       "       PosixPath('/mnt/ssd_elecom_black_c2c/cif/1/00/00/1000002'), ...,\n",
       "       PosixPath('/mnt/ssd_elecom_black_c2c/cif/9/01/78/9017813'),\n",
       "       PosixPath('/mnt/ssd_elecom_black_c2c/cif/9/01/78/9017837'),\n",
       "       PosixPath('/mnt/ssd_elecom_black_c2c/cif/9/01/79/9017907')],\n",
       "      dtype=object)"
      ]
     },
     "execution_count": 31,
     "metadata": {},
     "output_type": "execute_result"
    }
   ],
   "source": [
    "C_O_existed_poscar_folder_abs_path_list_loaded"
   ]
  },
  {
   "cell_type": "code",
   "execution_count": 32,
   "id": "47e07170-6bee-4d50-aa27-9e23fefcbeca",
   "metadata": {
    "tags": []
   },
   "outputs": [
    {
     "name": "stdout",
     "output_type": "stream",
     "text": [
      "/mnt/ssd_elecom_black_c2c/scripts_get_C_O_existed_poscar_folder_abs_path_list\n"
     ]
    }
   ],
   "source": [
    "!pwd"
   ]
  }
 ],
 "metadata": {
  "kernelspec": {
   "display_name": "Python 3 (ipykernel)",
   "language": "python",
   "name": "python3"
  },
  "language_info": {
   "codemirror_mode": {
    "name": "ipython",
    "version": 3
   },
   "file_extension": ".py",
   "mimetype": "text/x-python",
   "name": "python",
   "nbconvert_exporter": "python",
   "pygments_lexer": "ipython3",
   "version": "3.10.12"
  }
 },
 "nbformat": 4,
 "nbformat_minor": 5
}
